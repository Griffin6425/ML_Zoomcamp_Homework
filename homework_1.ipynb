{
 "cells": [
  {
   "cell_type": "code",
   "execution_count": null,
   "id": "4aac01b7",
   "metadata": {},
   "outputs": [
    {
     "name": "stdout",
     "output_type": "stream",
     "text": [
      "2.1.2\n"
     ]
    }
   ],
   "source": [
    "import pandas as pd\n",
    "\n",
    "df = pd.read_csv('assignment_data.csv')\n",
    "\n",
    "#Question 1\n",
    "print(pd.__version__)"
   ]
  },
  {
   "cell_type": "code",
   "execution_count": null,
   "id": "eaf6168d",
   "metadata": {},
   "outputs": [
    {
     "name": "stdout",
     "output_type": "stream",
     "text": [
      "engine_displacement    9704\n",
      "num_cylinders          9222\n",
      "horsepower             8996\n",
      "vehicle_weight         9704\n",
      "acceleration           8774\n",
      "model_year             9704\n",
      "origin                 9704\n",
      "fuel_type              9704\n",
      "drivetrain             9704\n",
      "num_doors              9202\n",
      "fuel_efficiency_mpg    9704\n",
      "dtype: int64\n",
      "       engine_displacement  num_cylinders   horsepower  vehicle_weight  \\\n",
      "count          9704.000000    9222.000000  8996.000000     9704.000000   \n",
      "mean            199.708368       3.962481   149.657292     3001.280993   \n",
      "std              49.455319       1.999323    29.879555      497.894860   \n",
      "min              10.000000       0.000000    37.000000      952.681761   \n",
      "25%             170.000000       3.000000   130.000000     2666.248985   \n",
      "50%             200.000000       4.000000   149.000000     2993.226296   \n",
      "75%             230.000000       5.000000   170.000000     3334.957039   \n",
      "max             380.000000      13.000000   271.000000     4739.077089   \n",
      "\n",
      "       acceleration   model_year    num_doors  fuel_efficiency_mpg  \n",
      "count   8774.000000  9704.000000  9202.000000          9704.000000  \n",
      "mean      15.021928  2011.484027    -0.006412            14.985243  \n",
      "std        2.510339     6.659808     1.048162             2.556468  \n",
      "min        6.000000  2000.000000    -4.000000             6.200971  \n",
      "25%       13.300000  2006.000000    -1.000000            13.267459  \n",
      "50%       15.000000  2012.000000     0.000000            15.006037  \n",
      "75%       16.700000  2017.000000     1.000000            16.707965  \n",
      "max       24.300000  2023.000000     4.000000            25.967222  \n"
     ]
    }
   ],
   "source": [
    "#Question 2\n",
    "print(df.count())\n",
    "\n",
    "print(df.describe())"
   ]
  },
  {
   "cell_type": "code",
   "execution_count": null,
   "id": "aff52d40",
   "metadata": {},
   "outputs": [
    {
     "name": "stdout",
     "output_type": "stream",
     "text": [
      "['Gasoline' 'Diesel']\n"
     ]
    }
   ],
   "source": [
    "#Question 3\n",
    "print(df['fuel_type'].unique())"
   ]
  },
  {
   "cell_type": "code",
   "execution_count": null,
   "id": "43343d23",
   "metadata": {},
   "outputs": [
    {
     "name": "stdout",
     "output_type": "stream",
     "text": [
      "engine_displacement      0\n",
      "num_cylinders          482\n",
      "horsepower             708\n",
      "vehicle_weight           0\n",
      "acceleration           930\n",
      "model_year               0\n",
      "origin                   0\n",
      "fuel_type                0\n",
      "drivetrain               0\n",
      "num_doors              502\n",
      "fuel_efficiency_mpg      0\n",
      "dtype: int64\n"
     ]
    }
   ],
   "source": [
    "#Question 4\n",
    "print(df.isnull().sum())"
   ]
  },
  {
   "cell_type": "code",
   "execution_count": null,
   "id": "67dab57f",
   "metadata": {},
   "outputs": [
    {
     "data": {
      "text/plain": [
       "23.759122836520497"
      ]
     },
     "execution_count": 13,
     "metadata": {},
     "output_type": "execute_result"
    }
   ],
   "source": [
    "#Question 5\n",
    "df.loc[df['origin'] == 'Asia', 'fuel_efficiency_mpg'].max()"
   ]
  },
  {
   "cell_type": "code",
   "execution_count": null,
   "id": "42e9dede",
   "metadata": {},
   "outputs": [
    {
     "name": "stdout",
     "output_type": "stream",
     "text": [
      "0    152.0\n",
      "Name: horsepower, dtype: float64\n"
     ]
    }
   ],
   "source": [
    "#Question 6\n",
    "print(df['horsepower'].mode())"
   ]
  },
  {
   "cell_type": "code",
   "execution_count": null,
   "id": "da149a36",
   "metadata": {},
   "outputs": [
    {
     "data": {
      "application/vnd.microsoft.datawrangler.viewer.v0+json": {
       "columns": [
        {
         "name": "index",
         "rawType": "int64",
         "type": "integer"
        },
        {
         "name": "horsepower",
         "rawType": "float64",
         "type": "float"
        }
       ],
       "ref": "cd555846-9a01-46e9-bab4-177618c107dc",
       "rows": [
        [
         "0",
         "159.0"
        ],
        [
         "1",
         "97.0"
        ],
        [
         "2",
         "78.0"
        ],
        [
         "3",
         "152.0"
        ],
        [
         "4",
         "140.0"
        ],
        [
         "5",
         "152.0"
        ],
        [
         "6",
         "127.0"
        ],
        [
         "7",
         "239.0"
        ],
        [
         "8",
         "174.0"
        ],
        [
         "9",
         "123.0"
        ],
        [
         "10",
         "100.0"
        ],
        [
         "11",
         "152.0"
        ],
        [
         "12",
         "145.0"
        ],
        [
         "13",
         "193.0"
        ],
        [
         "14",
         "160.0"
        ],
        [
         "15",
         "179.0"
        ],
        [
         "16",
         "180.0"
        ],
        [
         "17",
         "132.0"
        ],
        [
         "18",
         "110.0"
        ],
        [
         "19",
         "126.0"
        ],
        [
         "20",
         "197.0"
        ],
        [
         "21",
         "133.0"
        ],
        [
         "22",
         "144.0"
        ],
        [
         "23",
         "160.0"
        ],
        [
         "24",
         "156.0"
        ],
        [
         "25",
         "157.0"
        ],
        [
         "26",
         "160.0"
        ],
        [
         "27",
         "206.0"
        ],
        [
         "28",
         "154.0"
        ],
        [
         "29",
         "132.0"
        ],
        [
         "30",
         "140.0"
        ],
        [
         "31",
         "153.0"
        ],
        [
         "32",
         "136.0"
        ],
        [
         "33",
         "168.0"
        ],
        [
         "34",
         "149.0"
        ],
        [
         "35",
         "127.0"
        ],
        [
         "36",
         "143.0"
        ],
        [
         "37",
         "132.0"
        ],
        [
         "38",
         "158.0"
        ],
        [
         "39",
         "176.0"
        ],
        [
         "40",
         "108.0"
        ],
        [
         "41",
         "125.0"
        ],
        [
         "42",
         "123.0"
        ],
        [
         "43",
         "123.0"
        ],
        [
         "44",
         "142.0"
        ],
        [
         "45",
         "139.0"
        ],
        [
         "46",
         "170.0"
        ],
        [
         "47",
         "135.0"
        ],
        [
         "48",
         "202.0"
        ],
        [
         "49",
         "99.0"
        ]
       ],
       "shape": {
        "columns": 1,
        "rows": 9704
       }
      },
      "text/plain": [
       "0       159.0\n",
       "1        97.0\n",
       "2        78.0\n",
       "3       152.0\n",
       "4       140.0\n",
       "        ...  \n",
       "9699    164.0\n",
       "9700    154.0\n",
       "9701    138.0\n",
       "9702    177.0\n",
       "9703    140.0\n",
       "Name: horsepower, Length: 9704, dtype: float64"
      ]
     },
     "execution_count": 16,
     "metadata": {},
     "output_type": "execute_result"
    }
   ],
   "source": [
    "#Question 6\n",
    "df['horsepower'].fillna(152)"
   ]
  },
  {
   "cell_type": "code",
   "execution_count": null,
   "id": "e778a9a9",
   "metadata": {},
   "outputs": [
    {
     "name": "stdout",
     "output_type": "stream",
     "text": [
      "149.0\n"
     ]
    }
   ],
   "source": [
    "#Question 6\n",
    "print(df['horsepower'].median())"
   ]
  },
  {
   "cell_type": "code",
   "execution_count": null,
   "id": "4ff6c455",
   "metadata": {},
   "outputs": [
    {
     "name": "stdout",
     "output_type": "stream",
     "text": [
      "   engine_displacement  num_cylinders  horsepower  vehicle_weight  \\\n",
      "0                  250            1.0       174.0     2714.219310   \n",
      "1                  320            5.0       145.0     2783.868974   \n",
      "2                  200            6.0       160.0     3582.687368   \n",
      "3                  150            3.0       197.0     2231.808142   \n",
      "4                  160            4.0       133.0     2659.431451   \n",
      "\n",
      "   acceleration  model_year origin fuel_type         drivetrain  num_doors  \\\n",
      "0          10.3        2016   Asia    Diesel  Front-wheel drive       -1.0   \n",
      "1          15.1        2010   Asia    Diesel    All-wheel drive        1.0   \n",
      "2          14.9        2007   Asia    Diesel    All-wheel drive        0.0   \n",
      "3          18.7        2011   Asia  Gasoline  Front-wheel drive        1.0   \n",
      "4           NaN        2016   Asia  Gasoline  Front-wheel drive       -1.0   \n",
      "\n",
      "   fuel_efficiency_mpg  \n",
      "0            16.823554  \n",
      "1            16.175820  \n",
      "2            11.871091  \n",
      "3            18.889083  \n",
      "4            16.077730  \n"
     ]
    }
   ],
   "source": [
    "#Question 7\n",
    "asia_cars = df[df['origin'] == 'Asia'].reset_index(drop=True)\n",
    "print(asia_cars.head())"
   ]
  },
  {
   "cell_type": "code",
   "execution_count": null,
   "id": "52f75fa5",
   "metadata": {},
   "outputs": [
    {
     "name": "stdout",
     "output_type": "stream",
     "text": [
      "   vehicle_weight  model_year\n",
      "0     2714.219310        2016\n",
      "1     2783.868974        2010\n",
      "2     3582.687368        2007\n",
      "3     2231.808142        2011\n",
      "4     2659.431451        2016\n",
      "   vehicle_weight  model_year\n",
      "0     2714.219310        2016\n",
      "1     2783.868974        2010\n",
      "2     3582.687368        2007\n",
      "3     2231.808142        2011\n",
      "4     2659.431451        2016\n",
      "5     2844.227534        2014\n",
      "6     3761.994038        2019\n"
     ]
    }
   ],
   "source": [
    "#Question 7\n",
    "weight_and_year = asia_cars[['vehicle_weight', 'model_year']]\n",
    "\n",
    "weight_and_year_7 = weight_and_year.iloc[0:7]\n",
    "\n",
    "print(weight_and_year.head())\n",
    "print(weight_and_year_7)"
   ]
  },
  {
   "cell_type": "code",
   "execution_count": 38,
   "id": "552caa4f",
   "metadata": {},
   "outputs": [
    {
     "name": "stdout",
     "output_type": "stream",
     "text": [
      "0.5187709081074027\n"
     ]
    }
   ],
   "source": [
    "#Question 7\n",
    "\n",
    "import numpy as np\n",
    "X = weight_and_year_7.to_numpy()\n",
    "XTX = X.T @ X\n",
    "XTX_inv = np.linalg.inv(X.T @ X)\n",
    "\n",
    "y = np.array([1100, 1300, 800, 900, 1000, 1100, 1200])\n",
    "w = np.linalg.inv(X.T @ X) @ X.T @ y\n",
    "print(w.sum())\n"
   ]
  }
 ],
 "metadata": {
  "kernelspec": {
   "display_name": "base",
   "language": "python",
   "name": "python3"
  },
  "language_info": {
   "codemirror_mode": {
    "name": "ipython",
    "version": 3
   },
   "file_extension": ".py",
   "mimetype": "text/x-python",
   "name": "python",
   "nbconvert_exporter": "python",
   "pygments_lexer": "ipython3",
   "version": "3.12.4"
  }
 },
 "nbformat": 4,
 "nbformat_minor": 5
}
